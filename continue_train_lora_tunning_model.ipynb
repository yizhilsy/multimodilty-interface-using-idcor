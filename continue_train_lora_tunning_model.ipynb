{
 "cells": [
  {
   "cell_type": "code",
   "execution_count": 1,
   "metadata": {},
   "outputs": [],
   "source": [
    "from transformers import AutoModelForCausalLM, AutoProcessor, AutoTokenizer, LlavaForConditionalGeneration \n",
    "from PIL import Image\n",
    "from peft import PeftModel, PeftConfig\n",
    "import torch\n",
    "import os"
   ]
  },
  {
   "cell_type": "code",
   "execution_count": 2,
   "metadata": {},
   "outputs": [],
   "source": [
    "device = \"cuda:0\"\n",
    "\n",
    "# 基础模型路径（ lora 微调的初始模型）\n",
    "base_model_path = \"./qwen2.5_3B_Instruct_clipvL14_model/model001\"\n",
    "# lora 微调模型路径\n",
    "lora_model_path = \"./output_model_lora_show/[epoch4-5]qwen2.5_3B_Instruct_clipvL14\""
   ]
  },
  {
   "cell_type": "code",
   "execution_count": 3,
   "metadata": {},
   "outputs": [
    {
     "name": "stdout",
     "output_type": "stream",
     "text": [
      "<class 'transformers.models.llava.configuration_llava.LlavaConfig'>\n"
     ]
    },
    {
     "data": {
      "application/vnd.jupyter.widget-view+json": {
       "model_id": "9aacbe6ce0724e249f4cf5fbaf208c24",
       "version_major": 2,
       "version_minor": 0
      },
      "text/plain": [
       "Loading checkpoint shards:   0%|          | 0/3 [00:00<?, ?it/s]"
      ]
     },
     "metadata": {},
     "output_type": "display_data"
    }
   ],
   "source": [
    "# 加载 base 基础模型\n",
    "model = LlavaForConditionalGeneration.from_pretrained(\n",
    "    pretrained_model_name_or_path=base_model_path,\n",
    "    device_map=device,\n",
    "    torch_dtype=torch.bfloat16\n",
    ")\n",
    "\n",
    "llm_tokenizer = AutoTokenizer.from_pretrained(base_model_path)\n",
    "\n",
    "# 加载 lora 适配器\n",
    "model = PeftModel.from_pretrained(model, lora_model_path)\n",
    "\n",
    "# 合并 lora 到 base 模型\n",
    "model = model.merge_and_unload()"
   ]
  },
  {
   "cell_type": "code",
   "execution_count": 4,
   "metadata": {},
   "outputs": [
    {
     "name": "stdout",
     "output_type": "stream",
     "text": [
      "[2025-02-08 11:24:30,116] [INFO] [real_accelerator.py:161:get_accelerator] Setting ds_accelerator to cuda (auto detect)\n"
     ]
    }
   ],
   "source": [
    "model.save_pretrained(\"./qwen2.5_3B_Instruct_clipvL14_model/model_alpha\")"
   ]
  },
  {
   "cell_type": "code",
   "execution_count": 5,
   "metadata": {},
   "outputs": [
    {
     "data": {
      "text/plain": [
       "('./qwen2.5_3B_Instruct_clipvL14_model/model_alpha/tokenizer_config.json',\n",
       " './qwen2.5_3B_Instruct_clipvL14_model/model_alpha/special_tokens_map.json',\n",
       " './qwen2.5_3B_Instruct_clipvL14_model/model_alpha/vocab.json',\n",
       " './qwen2.5_3B_Instruct_clipvL14_model/model_alpha/merges.txt',\n",
       " './qwen2.5_3B_Instruct_clipvL14_model/model_alpha/added_tokens.json',\n",
       " './qwen2.5_3B_Instruct_clipvL14_model/model_alpha/tokenizer.json')"
      ]
     },
     "execution_count": 5,
     "metadata": {},
     "output_type": "execute_result"
    }
   ],
   "source": [
    "llm_tokenizer.save_pretrained(\"./qwen2.5_3B_Instruct_clipvL14_model/model_alpha\")"
   ]
  }
 ],
 "metadata": {
  "kernelspec": {
   "display_name": "llava",
   "language": "python",
   "name": "python3"
  },
  "language_info": {
   "codemirror_mode": {
    "name": "ipython",
    "version": 3
   },
   "file_extension": ".py",
   "mimetype": "text/x-python",
   "name": "python",
   "nbconvert_exporter": "python",
   "pygments_lexer": "ipython3",
   "version": "3.10.16"
  }
 },
 "nbformat": 4,
 "nbformat_minor": 2
}
