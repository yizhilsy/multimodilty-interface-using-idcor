{
 "cells": [
  {
   "cell_type": "markdown",
   "metadata": {},
   "source": [
    "### 自定义Trainer类，将idcor的计算也考虑到损失函数中"
   ]
  },
  {
   "cell_type": "code",
   "execution_count": 1,
   "metadata": {},
   "outputs": [
    {
     "data": {
      "text/plain": [
       "(tensor([[[-0.5019,  0.9098, -0.3257,  ...,  1.2817,  0.0495, -1.5661],\n",
       "          [-0.2381,  0.6739,  0.4183,  ..., -1.1270, -0.1086, -0.1199],\n",
       "          [ 0.1480,  1.4203, -0.2630,  ...,  0.1286,  0.7086,  0.0828]],\n",
       " \n",
       "         [[ 0.9037, -0.6607,  0.5651,  ..., -2.1822,  0.1593,  0.7980],\n",
       "          [-1.1816, -0.9557,  1.1454,  ...,  0.7013,  0.0301,  1.1178],\n",
       "          [ 1.6244,  0.2782, -0.4068,  ...,  0.7782,  0.1591, -0.9041]],\n",
       " \n",
       "         [[ 2.9414,  0.9978, -0.6884,  ..., -0.7702,  1.2302, -0.4109],\n",
       "          [-1.3048,  0.6791, -1.3369,  ...,  0.5799, -0.1845, -0.2855],\n",
       "          [ 0.3539, -1.7124, -2.0652,  ...,  1.4186,  0.2590, -0.7188]],\n",
       " \n",
       "         [[ 1.3619, -0.9040, -0.6858,  ..., -0.4627,  0.1842,  0.3898],\n",
       "          [ 1.3845, -0.1301, -0.2596,  ..., -0.2234,  0.0809,  0.0944],\n",
       "          [-0.2858, -2.5773, -1.1297,  ..., -0.4675, -2.7245,  0.7337]]]),\n",
       " torch.Size([4, 3, 2048]))"
      ]
     },
     "execution_count": 1,
     "metadata": {},
     "output_type": "execute_result"
    }
   ],
   "source": [
    "import torch\n",
    "image_features = torch.randn(4, 3, 2048)\n",
    "image_features, image_features.shape"
   ]
  },
  {
   "cell_type": "code",
   "execution_count": 2,
   "metadata": {},
   "outputs": [
    {
     "data": {
      "text/plain": [
       "torch.Size([4, 2048])"
      ]
     },
     "execution_count": 2,
     "metadata": {},
     "output_type": "execute_result"
    }
   ],
   "source": [
    "image_features_average = torch.mean(image_features, dim=1)\n",
    "image_features_average.shape"
   ]
  },
  {
   "cell_type": "code",
   "execution_count": 6,
   "metadata": {},
   "outputs": [
    {
     "data": {
      "text/plain": [
       "torch.Size([4, 3, 2048])"
      ]
     },
     "execution_count": 6,
     "metadata": {},
     "output_type": "execute_result"
    }
   ],
   "source": [
    "image_features.shape"
   ]
  },
  {
   "cell_type": "code",
   "execution_count": null,
   "metadata": {},
   "outputs": [
    {
     "data": {
      "text/plain": [
       "(tensor([[-0.1973,  1.0013, -0.0568,  ...,  0.0944,  0.2165, -0.5344]]),\n",
       " torch.Size([1, 2048]))"
      ]
     },
     "execution_count": 4,
     "metadata": {},
     "output_type": "execute_result"
    }
   ],
   "source": [
    "single_average_feature = image_features_average[0].unsqueeze(0)\n",
    "single_average_feature, single_average_feature.shape"
   ]
  }
 ],
 "metadata": {
  "kernelspec": {
   "display_name": "llava",
   "language": "python",
   "name": "python3"
  },
  "language_info": {
   "codemirror_mode": {
    "name": "ipython",
    "version": 3
   },
   "file_extension": ".py",
   "mimetype": "text/x-python",
   "name": "python",
   "nbconvert_exporter": "python",
   "pygments_lexer": "ipython3",
   "version": "3.10.16"
  }
 },
 "nbformat": 4,
 "nbformat_minor": 2
}
