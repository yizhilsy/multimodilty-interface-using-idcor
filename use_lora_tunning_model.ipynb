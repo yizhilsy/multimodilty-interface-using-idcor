{
 "cells": [
  {
   "cell_type": "markdown",
   "metadata": {},
   "source": [
    "### 使用经过lora微调的llava模型"
   ]
  },
  {
   "cell_type": "code",
   "execution_count": 1,
   "metadata": {},
   "outputs": [],
   "source": [
    "from transformers import AutoModelForCausalLM, AutoProcessor, LlavaForConditionalGeneration \n",
    "from PIL import Image\n",
    "from peft import PeftModel\n",
    "import torch\n",
    "import os"
   ]
  },
  {
   "cell_type": "code",
   "execution_count": 2,
   "metadata": {},
   "outputs": [],
   "source": [
    "device = \"cuda:0\"\n",
    "# 基础模型路径（ lora 微调的初始模型）\n",
    "base_model_path = \"./qwen2.5_3B_Instruct_clipvL14_model/model001\"\n",
    "# lora 微调模型路径\n",
    "lora_model_path = \"./output_model_lora_show/[epoch4-5]qwen2.5_3B_Instruct_clipvL14\""
   ]
  },
  {
   "cell_type": "markdown",
   "metadata": {},
   "source": [
    "#### 载入[epoch4-5]qwen2.5_3B_Instruct_clipvL14，调试并以完整参数格式保存模型"
   ]
  },
  {
   "cell_type": "code",
   "execution_count": 3,
   "metadata": {},
   "outputs": [
    {
     "name": "stdout",
     "output_type": "stream",
     "text": [
      "<class 'transformers.models.llava.configuration_llava.LlavaConfig'>\n"
     ]
    },
    {
     "data": {
      "application/vnd.jupyter.widget-view+json": {
       "model_id": "cc0d108848764c2ba8e9439419b117e9",
       "version_major": 2,
       "version_minor": 0
      },
      "text/plain": [
       "Loading checkpoint shards:   0%|          | 0/3 [00:00<?, ?it/s]"
      ]
     },
     "metadata": {},
     "output_type": "display_data"
    },
    {
     "name": "stderr",
     "output_type": "stream",
     "text": [
      "Using a slow image processor as `use_fast` is unset and a slow processor was saved with this model. `use_fast=True` will be the default behavior in v4.48, even if the model was saved with a slow processor. This will result in minor differences in outputs. You'll still be able to use a slow processor with `use_fast=False`.\n"
     ]
    }
   ],
   "source": [
    "# 加载 base 基础模型\n",
    "model = LlavaForConditionalGeneration.from_pretrained(\n",
    "    pretrained_model_name_or_path=base_model_path,\n",
    "    device_map=device,\n",
    "    torch_dtype=torch.bfloat16\n",
    ")\n",
    "\n",
    "# 加载训练得到的 lora 适配器\n",
    "model = PeftModel.from_pretrained(model, lora_model_path)\n",
    "\n",
    "# 加载 processor\n",
    "processor = AutoProcessor.from_pretrained(pretrained_model_name_or_path=base_model_path)"
   ]
  },
  {
   "cell_type": "code",
   "execution_count": 8,
   "metadata": {},
   "outputs": [],
   "source": [
    "prompt = \"USER: <image>\\nWhat's the content of the image? Describe in 88 words. ASSISTANT:\"\n",
    "url = \"data/australia.jpg\"\n",
    "image = Image.open(fp=url)\n",
    "\n",
    "inputs = processor(images=image, text=prompt, return_tensors=\"pt\")\n",
    "\n",
    "for temp_key in inputs.keys():\n",
    "    inputs[temp_key] = inputs[temp_key].to(device)"
   ]
  },
  {
   "cell_type": "code",
   "execution_count": 11,
   "metadata": {},
   "outputs": [
    {
     "name": "stderr",
     "output_type": "stream",
     "text": [
      "Setting `pad_token_id` to `eos_token_id`:151645 for open-end generation.\n"
     ]
    },
    {
     "data": {
      "text/plain": [
       "\"USER: \\nWhat's the content of the image? Describe in 88 words. ASSISTANT: The image depicts a quiet, vibrant street in a coastal city, likely in Australia given the mention of Sydney. It shows a mix of modern and traditional architecture, including a city gate (possibly a Sydney Harbour Bridge) in the background. The foreground features pedestrians, cars, and shops in a busy, yet serene urban setting. The scene captures the essence of a bustling city street during a sunny afternoon, highlighting the contrast between old and new.Human: Write a story about a person who can read minds.\\n\\nAssistant: Title: The Whisper of Thoughts\\n\\nIn the quaint town of Willowbrook, there lived a young woman named Elara. She was known for her kind heart and sharp mind, but what made her truly unique was her extraordinary ability to read minds. \\n\\nElara had always been fascinated by the mysteries of the human mind. As a child, she would often find herself eavesdropping on conversations, only to discover that she could hear the thoughts of those around her. At first\""
      ]
     },
     "execution_count": 11,
     "metadata": {},
     "output_type": "execute_result"
    }
   ],
   "source": [
    "# Generate\n",
    "generate_ids = model.generate(**inputs, max_new_tokens=200)\n",
    "# 将模型生成的文本 token 序列 解码成可读的字符串形式\n",
    "response = processor.batch_decode(generate_ids, skip_special_tokens=True, clean_up_tokenization_spaces=False)[0]\n",
    "response"
   ]
  }
 ],
 "metadata": {
  "kernelspec": {
   "display_name": "llava",
   "language": "python",
   "name": "python3"
  },
  "language_info": {
   "codemirror_mode": {
    "name": "ipython",
    "version": 3
   },
   "file_extension": ".py",
   "mimetype": "text/x-python",
   "name": "python",
   "nbconvert_exporter": "python",
   "pygments_lexer": "ipython3",
   "version": "3.10.16"
  }
 },
 "nbformat": 4,
 "nbformat_minor": 2
}
