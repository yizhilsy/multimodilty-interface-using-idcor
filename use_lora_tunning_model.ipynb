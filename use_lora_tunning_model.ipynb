{
 "cells": [
  {
   "cell_type": "markdown",
   "metadata": {},
   "source": [
    "### 使用经过lora微调的llava模型"
   ]
  },
  {
   "cell_type": "code",
   "execution_count": 4,
   "metadata": {},
   "outputs": [],
   "source": [
    "from transformers import AutoModelForCausalLM, AutoProcessor, LlavaForConditionalGeneration \n",
    "from PIL import Image\n",
    "from peft import PeftModel\n",
    "import torch\n",
    "import os"
   ]
  },
  {
   "cell_type": "code",
   "execution_count": 5,
   "metadata": {},
   "outputs": [],
   "source": [
    "device = \"cuda:0\"\n",
    "# 基础模型路径（ lora 微调的初始模型）\n",
    "base_model_path = \"./qwen2.5_3B_Instruct_clipvL14_model/model001\"\n",
    "# lora 微调模型路径\n",
    "lora_model_path = \"./output_model_lora_show/[epoch4-5]qwen2.5_3B_Instruct_clipvL14\""
   ]
  },
  {
   "cell_type": "markdown",
   "metadata": {},
   "source": [
    "#### 载入基础模型与[epoch4-5]qwen2.5_3B_Instruct_clipvL14的lora微调数据，调试并以完整参数格式保存模型"
   ]
  },
  {
   "cell_type": "code",
   "execution_count": null,
   "metadata": {},
   "outputs": [],
   "source": [
    "# 加载 base 基础模型\n",
    "model = LlavaForConditionalGeneration.from_pretrained(\n",
    "    pretrained_model_name_or_path=base_model_path,\n",
    "    device_map=device,\n",
    "    torch_dtype=torch.bfloat16\n",
    ")\n",
    "\n",
    "# 加载训练得到的 lora 适配器\n",
    "model = PeftModel.from_pretrained(model, lora_model_path)\n",
    "\n",
    "# 加载 processor\n",
    "processor = AutoProcessor.from_pretrained(pretrained_model_name_or_path=base_model_path)"
   ]
  },
  {
   "cell_type": "code",
   "execution_count": null,
   "metadata": {},
   "outputs": [],
   "source": [
    "print(processor)"
   ]
  },
  {
   "cell_type": "code",
   "execution_count": null,
   "metadata": {},
   "outputs": [],
   "source": [
    "prompt = \"USER: <image>\\nWhat's the content of the image? Describe in 88 words. ASSISTANT:\"\n",
    "url = \"data/australia.jpg\"\n",
    "image = Image.open(fp=url)\n",
    "\n",
    "inputs = processor(images=image, text=prompt, return_tensors=\"pt\")\n",
    "\n",
    "for temp_key in inputs.keys():\n",
    "    inputs[temp_key] = inputs[temp_key].to(device)"
   ]
  },
  {
   "cell_type": "code",
   "execution_count": null,
   "metadata": {},
   "outputs": [],
   "source": [
    "# Generate\n",
    "generate_ids = model.generate(**inputs, max_new_tokens=200)\n",
    "# 将模型生成的文本 token 序列 解码成可读的字符串形式\n",
    "response = processor.batch_decode(generate_ids, skip_special_tokens=True, clean_up_tokenization_spaces=False)[0]\n",
    "response"
   ]
  }
 ],
 "metadata": {
  "kernelspec": {
   "display_name": "llava",
   "language": "python",
   "name": "python3"
  },
  "language_info": {
   "codemirror_mode": {
    "name": "ipython",
    "version": 3
   },
   "file_extension": ".py",
   "mimetype": "text/x-python",
   "name": "python",
   "nbconvert_exporter": "python",
   "pygments_lexer": "ipython3",
   "version": "3.10.16"
  }
 },
 "nbformat": 4,
 "nbformat_minor": 2
}
