{
 "cells": [
  {
   "cell_type": "markdown",
   "metadata": {},
   "source": [
    "#### 切分json文件为训练json和验证json"
   ]
  },
  {
   "cell_type": "code",
   "execution_count": 1,
   "metadata": {},
   "outputs": [],
   "source": [
    "from dataclasses import dataclass\n",
    "import pandas as pd\n",
    "import torch\n",
    "from PIL import Image\n",
    "from torch.utils.data import Dataset\n",
    "from pathlib import Path\n",
    "from typing import List, Dict, Any, Tuple\n",
    "from sklearn.model_selection import train_test_split\n",
    "import json"
   ]
  },
  {
   "cell_type": "code",
   "execution_count": 2,
   "metadata": {},
   "outputs": [
    {
     "data": {
      "text/plain": [
       "(535837, 59538)"
      ]
     },
     "execution_count": 2,
     "metadata": {},
     "output_type": "execute_result"
    }
   ],
   "source": [
    "data_dir = \"/home/lsy/shared_data/liuhaotian/LLaVA-CC3M-Pretrain-595K\"\n",
    "chat_file = Path(data_dir).joinpath(\"chat.json\")\n",
    "# 读取json文件\n",
    "chat_data = pd.read_json(path_or_buf=chat_file)\n",
    "# 将dataframe数据类型转换为字典\n",
    "chat_data = chat_data.to_dict(orient=\"records\")\n",
    "train_chat_data, eval_chat_data = train_test_split(chat_data, test_size=0.1, random_state=42)\n",
    "len(train_chat_data), len(eval_chat_data)"
   ]
  },
  {
   "cell_type": "code",
   "execution_count": 3,
   "metadata": {},
   "outputs": [],
   "source": [
    "train_chat_data_output_path = Path(data_dir).joinpath(\"train_chat_data.json\")\n",
    "eval_chat_data_output_path = Path(data_dir).joinpath(\"eval_chat_data.json\")\n",
    "\n",
    "# 使用json模块保存\n",
    "with open(train_chat_data_output_path, 'w') as f_train, open(eval_chat_data_output_path, 'w') as f_eval:\n",
    "    # 使用json.dump保存为原始格式\n",
    "    json.dump(train_chat_data, f_train, ensure_ascii=False, indent=2)\n",
    "    json.dump(eval_chat_data, f_eval, ensure_ascii=False, indent=2)"
   ]
  }
 ],
 "metadata": {
  "kernelspec": {
   "display_name": "llava",
   "language": "python",
   "name": "python3"
  },
  "language_info": {
   "codemirror_mode": {
    "name": "ipython",
    "version": 3
   },
   "file_extension": ".py",
   "mimetype": "text/x-python",
   "name": "python",
   "nbconvert_exporter": "python",
   "pygments_lexer": "ipython3",
   "version": "3.10.16"
  }
 },
 "nbformat": 4,
 "nbformat_minor": 2
}
